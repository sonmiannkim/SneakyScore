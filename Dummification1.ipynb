{
 "cells": [
  {
   "cell_type": "markdown",
   "id": "3d94e7f7",
   "metadata": {},
   "source": [
    "# Dummy Variables\n",
    "Why needed Dummy Variables:?\n",
    "- Dummy variables are useful because they enable us to use a single regression equation to represent multiple groups.\n",
    "- We don't need to write out separate equation models for each subgroup\n",
    "- It is more flexible\n",
    "- It allows multiple comparisons to be made\n",
    "- Used when categorical variables as predictor variables\n",
    "- Most common appeared is ommitted and rest are comverted (dummy_count = K -1)"
   ]
  },
  {
   "cell_type": "code",
   "execution_count": 114,
   "id": "c19181af",
   "metadata": {},
   "outputs": [],
   "source": [
    "# Import basic necessities\n",
    "import pandas as pd\n",
    "import numpy as np\n",
    "import os\n",
    "\n",
    "import warnings\n",
    "warnings.filterwarnings('ignore')"
   ]
  },
  {
   "cell_type": "code",
   "execution_count": 115,
   "id": "92c9a3d3",
   "metadata": {},
   "outputs": [],
   "source": [
    "# Make dummies - total 60, let's reduce to most owned vehicles\n",
    "vehicles_file = \"data/vehicles.csv\"\n",
    "drivers_file = \"data/drivers.csv\""
   ]
  },
  {
   "cell_type": "code",
   "execution_count": 116,
   "id": "93576fe1",
   "metadata": {},
   "outputs": [],
   "source": [
    "# Get Initial Data\n",
    "dr_df =pd.read_csv(drivers_file)\n",
    "veh_df =pd.read_csv(vehicles_file)"
   ]
  },
  {
   "cell_type": "code",
   "execution_count": 117,
   "id": "ac810e99",
   "metadata": {},
   "outputs": [
    {
     "data": {
      "text/html": [
       "<div>\n",
       "<style scoped>\n",
       "    .dataframe tbody tr th:only-of-type {\n",
       "        vertical-align: middle;\n",
       "    }\n",
       "\n",
       "    .dataframe tbody tr th {\n",
       "        vertical-align: top;\n",
       "    }\n",
       "\n",
       "    .dataframe thead th {\n",
       "        text-align: right;\n",
       "    }\n",
       "</style>\n",
       "<table border=\"1\" class=\"dataframe\">\n",
       "  <thead>\n",
       "    <tr style=\"text-align: right;\">\n",
       "      <th></th>\n",
       "      <th>DRIVER_ID</th>\n",
       "      <th>GENDER</th>\n",
       "      <th>CREDIT_SCORE</th>\n",
       "      <th>VEHICLE_ID</th>\n",
       "      <th>AGE</th>\n",
       "      <th>YEAR</th>\n",
       "      <th>MAKE</th>\n",
       "      <th>MODEL</th>\n",
       "    </tr>\n",
       "  </thead>\n",
       "  <tbody>\n",
       "    <tr>\n",
       "      <th>0</th>\n",
       "      <td>1</td>\n",
       "      <td>2</td>\n",
       "      <td>824</td>\n",
       "      <td>7399455</td>\n",
       "      <td>32</td>\n",
       "      <td>2016</td>\n",
       "      <td>DODGE</td>\n",
       "      <td>JOURNEY SXT</td>\n",
       "    </tr>\n",
       "    <tr>\n",
       "      <th>1</th>\n",
       "      <td>2181</td>\n",
       "      <td>2</td>\n",
       "      <td>824</td>\n",
       "      <td>7399455</td>\n",
       "      <td>29</td>\n",
       "      <td>2016</td>\n",
       "      <td>DODGE</td>\n",
       "      <td>JOURNEY SXT</td>\n",
       "    </tr>\n",
       "    <tr>\n",
       "      <th>2</th>\n",
       "      <td>38154</td>\n",
       "      <td>2</td>\n",
       "      <td>631</td>\n",
       "      <td>7399455</td>\n",
       "      <td>28</td>\n",
       "      <td>2016</td>\n",
       "      <td>DODGE</td>\n",
       "      <td>JOURNEY SXT</td>\n",
       "    </tr>\n",
       "    <tr>\n",
       "      <th>3</th>\n",
       "      <td>38265</td>\n",
       "      <td>2</td>\n",
       "      <td>666</td>\n",
       "      <td>7399455</td>\n",
       "      <td>28</td>\n",
       "      <td>2016</td>\n",
       "      <td>DODGE</td>\n",
       "      <td>JOURNEY SXT</td>\n",
       "    </tr>\n",
       "    <tr>\n",
       "      <th>4</th>\n",
       "      <td>47115</td>\n",
       "      <td>2</td>\n",
       "      <td>671</td>\n",
       "      <td>7399455</td>\n",
       "      <td>39</td>\n",
       "      <td>2016</td>\n",
       "      <td>DODGE</td>\n",
       "      <td>JOURNEY SXT</td>\n",
       "    </tr>\n",
       "  </tbody>\n",
       "</table>\n",
       "</div>"
      ],
      "text/plain": [
       "   DRIVER_ID  GENDER  CREDIT_SCORE  VEHICLE_ID  AGE  YEAR   MAKE        MODEL\n",
       "0          1       2           824     7399455   32  2016  DODGE  JOURNEY SXT\n",
       "1       2181       2           824     7399455   29  2016  DODGE  JOURNEY SXT\n",
       "2      38154       2           631     7399455   28  2016  DODGE  JOURNEY SXT\n",
       "3      38265       2           666     7399455   28  2016  DODGE  JOURNEY SXT\n",
       "4      47115       2           671     7399455   39  2016  DODGE  JOURNEY SXT"
      ]
     },
     "execution_count": 117,
     "metadata": {},
     "output_type": "execute_result"
    }
   ],
   "source": [
    "# Merge and analyze - possibly cut off less counted owned vehicles\n",
    "drivers_subset = dr_df.merge(veh_df, left_on='VEHICLE_ID', right_on='VEHICLE_ID')  \n",
    "drivers_subset.head()"
   ]
  },
  {
   "cell_type": "code",
   "execution_count": 118,
   "id": "a7a45ebe",
   "metadata": {},
   "outputs": [],
   "source": [
    "drivers_subset_count = drivers_subset.value_counts(['MAKE','MODEL']).reset_index(name='TOTAL_COUNT')"
   ]
  },
  {
   "cell_type": "code",
   "execution_count": 119,
   "id": "1cf5c2ea",
   "metadata": {},
   "outputs": [],
   "source": [
    "drivers_subset_count['KEEP'] = drivers_subset_count['TOTAL_COUNT'] > 1000"
   ]
  },
  {
   "cell_type": "code",
   "execution_count": 144,
   "id": "ef76927d",
   "metadata": {},
   "outputs": [
    {
     "data": {
      "text/plain": [
       "<bound method DataFrame.info of           MAKE                       MODEL  TOTAL_COUNT   KEEP\n",
       "0       NISSAN                  ALTIMA 2.5        11385   True\n",
       "1         FORD                   FUSION SE         8686   True\n",
       "2         FORD  F-150 SUPERCREW SUPER CREW         6634   True\n",
       "3       NISSAN               ROGUE S/SV/SL         5705   True\n",
       "4         FORD                    FOCUS SE         5628   True\n",
       "...        ...                         ...          ...    ...\n",
       "3542     LEXUS                RC 350 F SPT            1  False\n",
       "3543  INFINITI                         M45            1  False\n",
       "3544      AUDI                  A8 3.0 TDI            1  False\n",
       "3545   PORSCHE                   MACAN GTS            1  False\n",
       "3546     VOLVO          XC90 V8 AWD 7-PASS            1  False\n",
       "\n",
       "[3547 rows x 4 columns]>"
      ]
     },
     "execution_count": 144,
     "metadata": {},
     "output_type": "execute_result"
    }
   ],
   "source": [
    "drivers_subset_count.info"
   ]
  },
  {
   "cell_type": "code",
   "execution_count": 137,
   "id": "0e5b08b9",
   "metadata": {},
   "outputs": [
    {
     "data": {
      "text/plain": [
       "VEHICLE_ID    65934\n",
       "YEAR          65934\n",
       "MAKE          65934\n",
       "MODEL         65934\n",
       "dtype: int64"
      ]
     },
     "execution_count": 137,
     "metadata": {},
     "output_type": "execute_result"
    }
   ],
   "source": [
    "veh_df.count()"
   ]
  },
  {
   "cell_type": "code",
   "execution_count": 145,
   "id": "544c87a1",
   "metadata": {},
   "outputs": [],
   "source": [
    "vehicles_subset = veh_df.merge(drivers_subset_count, left_on=['MAKE','MODEL'], right_on=['MAKE','MODEL'])  "
   ]
  },
  {
   "cell_type": "code",
   "execution_count": 146,
   "id": "ab99d5b3",
   "metadata": {},
   "outputs": [
    {
     "data": {
      "text/html": [
       "<div>\n",
       "<style scoped>\n",
       "    .dataframe tbody tr th:only-of-type {\n",
       "        vertical-align: middle;\n",
       "    }\n",
       "\n",
       "    .dataframe tbody tr th {\n",
       "        vertical-align: top;\n",
       "    }\n",
       "\n",
       "    .dataframe thead th {\n",
       "        text-align: right;\n",
       "    }\n",
       "</style>\n",
       "<table border=\"1\" class=\"dataframe\">\n",
       "  <thead>\n",
       "    <tr style=\"text-align: right;\">\n",
       "      <th></th>\n",
       "      <th>VEHICLE_ID</th>\n",
       "      <th>YEAR</th>\n",
       "      <th>MAKE</th>\n",
       "      <th>MODEL</th>\n",
       "      <th>TOTAL_COUNT</th>\n",
       "      <th>KEEP</th>\n",
       "    </tr>\n",
       "  </thead>\n",
       "  <tbody>\n",
       "    <tr>\n",
       "      <th>0</th>\n",
       "      <td>2005191</td>\n",
       "      <td>2012</td>\n",
       "      <td>PORSCHE</td>\n",
       "      <td>911 CARRERA CARRERA 4/CARRERA 2</td>\n",
       "      <td>21</td>\n",
       "      <td>False</td>\n",
       "    </tr>\n",
       "    <tr>\n",
       "      <th>1</th>\n",
       "      <td>2005262</td>\n",
       "      <td>2012</td>\n",
       "      <td>PORSCHE</td>\n",
       "      <td>911 CARRERA CARRERA 4/CARRERA 2</td>\n",
       "      <td>21</td>\n",
       "      <td>False</td>\n",
       "    </tr>\n",
       "    <tr>\n",
       "      <th>2</th>\n",
       "      <td>7371303</td>\n",
       "      <td>2013</td>\n",
       "      <td>PORSCHE</td>\n",
       "      <td>911 CARRERA CARRERA 4/CARRERA 2</td>\n",
       "      <td>21</td>\n",
       "      <td>False</td>\n",
       "    </tr>\n",
       "    <tr>\n",
       "      <th>3</th>\n",
       "      <td>7371328</td>\n",
       "      <td>2014</td>\n",
       "      <td>PORSCHE</td>\n",
       "      <td>911 CARRERA CARRERA 4/CARRERA 2</td>\n",
       "      <td>21</td>\n",
       "      <td>False</td>\n",
       "    </tr>\n",
       "    <tr>\n",
       "      <th>4</th>\n",
       "      <td>7371329</td>\n",
       "      <td>2015</td>\n",
       "      <td>PORSCHE</td>\n",
       "      <td>911 CARRERA CARRERA 4/CARRERA 2</td>\n",
       "      <td>21</td>\n",
       "      <td>False</td>\n",
       "    </tr>\n",
       "  </tbody>\n",
       "</table>\n",
       "</div>"
      ],
      "text/plain": [
       "   VEHICLE_ID  YEAR     MAKE                            MODEL  TOTAL_COUNT  \\\n",
       "0     2005191  2012  PORSCHE  911 CARRERA CARRERA 4/CARRERA 2           21   \n",
       "1     2005262  2012  PORSCHE  911 CARRERA CARRERA 4/CARRERA 2           21   \n",
       "2     7371303  2013  PORSCHE  911 CARRERA CARRERA 4/CARRERA 2           21   \n",
       "3     7371328  2014  PORSCHE  911 CARRERA CARRERA 4/CARRERA 2           21   \n",
       "4     7371329  2015  PORSCHE  911 CARRERA CARRERA 4/CARRERA 2           21   \n",
       "\n",
       "    KEEP  \n",
       "0  False  \n",
       "1  False  \n",
       "2  False  \n",
       "3  False  \n",
       "4  False  "
      ]
     },
     "execution_count": 146,
     "metadata": {},
     "output_type": "execute_result"
    }
   ],
   "source": [
    "vehicles_subset.head()"
   ]
  },
  {
   "cell_type": "code",
   "execution_count": 147,
   "id": "16ffeb89",
   "metadata": {},
   "outputs": [],
   "source": [
    "vehicles_subset_test = vehicles_subset[vehicles_subset['KEEP'].values == True]"
   ]
  },
  {
   "cell_type": "code",
   "execution_count": 148,
   "id": "b1c86754",
   "metadata": {},
   "outputs": [
    {
     "data": {
      "text/plain": [
       "<bound method DataFrame.count of        VEHICLE_ID  YEAR    MAKE  MODEL  TOTAL_COUNT  KEEP\n",
       "825       4044358  2011  NISSAN  ROGUE         2138  True\n",
       "826       4044361  2013  NISSAN  ROGUE         2138  True\n",
       "827       4044377  2012  NISSAN  ROGUE         2138  True\n",
       "828       7266697  2010  NISSAN  ROGUE         2138  True\n",
       "829       7266698  2011  NISSAN  ROGUE         2138  True\n",
       "...           ...   ...     ...    ...          ...   ...\n",
       "51085     7468364  2019     KIA   SOUL         3986  True\n",
       "51086     7468368  2019     KIA   SOUL         3986  True\n",
       "51087     7468416  2015     KIA   SOUL         3986  True\n",
       "51088     7468434  2019     KIA   SOUL         3986  True\n",
       "51089     7468462  2018     KIA   SOUL         3986  True\n",
       "\n",
       "[8838 rows x 6 columns]>"
      ]
     },
     "execution_count": 148,
     "metadata": {},
     "output_type": "execute_result"
    }
   ],
   "source": [
    "vehicles_subset_test.count"
   ]
  },
  {
   "cell_type": "code",
   "execution_count": 150,
   "id": "ec78018e",
   "metadata": {},
   "outputs": [],
   "source": [
    "vehicles_subset_test.to_csv(\"data/vehicle_keep.csv\", index=False)"
   ]
  },
  {
   "cell_type": "code",
   "execution_count": null,
   "id": "bc1ba995",
   "metadata": {},
   "outputs": [],
   "source": []
  }
 ],
 "metadata": {
  "kernelspec": {
   "display_name": "mlenv",
   "language": "python",
   "name": "mlenv"
  },
  "language_info": {
   "codemirror_mode": {
    "name": "ipython",
    "version": 3
   },
   "file_extension": ".py",
   "mimetype": "text/x-python",
   "name": "python",
   "nbconvert_exporter": "python",
   "pygments_lexer": "ipython3",
   "version": "3.7.13"
  }
 },
 "nbformat": 4,
 "nbformat_minor": 5
}
