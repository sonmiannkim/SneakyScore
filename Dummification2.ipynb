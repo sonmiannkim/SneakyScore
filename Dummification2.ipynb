{
 "cells": [
  {
   "cell_type": "code",
   "execution_count": 45,
   "id": "a0c88476",
   "metadata": {},
   "outputs": [],
   "source": [
    "# continue data dummification from dummification 1\n",
    "# Import basic necessities\n",
    "import pandas as pd\n",
    "import numpy as np\n",
    "import os\n",
    "\n",
    "import warnings\n",
    "warnings.filterwarnings('ignore')"
   ]
  },
  {
   "cell_type": "code",
   "execution_count": 46,
   "id": "d239c3d9",
   "metadata": {},
   "outputs": [],
   "source": [
    "# Make dummies - total 60, let's reduce to most owned vehicles\n",
    "vehicles_file = \"data/vehicles.csv\"\n",
    "drivers_file = \"data/drivers.csv\"\n",
    "keep_vehicle_file = \"data/vehicle_keep.csv\""
   ]
  },
  {
   "cell_type": "code",
   "execution_count": 47,
   "id": "a97ff823",
   "metadata": {},
   "outputs": [],
   "source": [
    "# Get Initial Data\n",
    "dr_df =pd.read_csv(drivers_file)\n",
    "veh_df =pd.read_csv(vehicles_file)\n",
    "kp_df = pd.read_csv(keep_vehicle_file)"
   ]
  },
  {
   "cell_type": "code",
   "execution_count": 48,
   "id": "1b6e4488",
   "metadata": {},
   "outputs": [
    {
     "data": {
      "text/plain": [
       "<bound method DataFrame.info of          DRIVER_ID  GENDER  CREDIT_SCORE  VEHICLE_ID  AGE\n",
       "0                1       2           824     7399455   32\n",
       "1                2       2           824     6078430   88\n",
       "2                3       2           750     6212210   34\n",
       "3                4       2           750     7416184   22\n",
       "4                5       2           824     6078430   88\n",
       "...            ...     ...           ...         ...  ...\n",
       "1048570    1053422       1           666     6440644   73\n",
       "1048571    1053423       1           627     6592469   38\n",
       "1048572    1053424       1           847     7182224   55\n",
       "1048573    1053425       1           847     6112997   26\n",
       "1048574    1053426       1           811     6801782   50\n",
       "\n",
       "[1048575 rows x 5 columns]>"
      ]
     },
     "execution_count": 48,
     "metadata": {},
     "output_type": "execute_result"
    }
   ],
   "source": [
    "dr_df.info"
   ]
  },
  {
   "cell_type": "code",
   "execution_count": 49,
   "id": "00a43dbd",
   "metadata": {},
   "outputs": [
    {
     "data": {
      "text/plain": [
       "<bound method DataFrame.count of       VEHICLE_ID  YEAR    MAKE  MODEL  TOTAL_COUNT  KEEP\n",
       "0        4044358  2011  NISSAN  ROGUE         2138  True\n",
       "1        4044361  2013  NISSAN  ROGUE         2138  True\n",
       "2        4044377  2012  NISSAN  ROGUE         2138  True\n",
       "3        7266697  2010  NISSAN  ROGUE         2138  True\n",
       "4        7266698  2011  NISSAN  ROGUE         2138  True\n",
       "...          ...   ...     ...    ...          ...   ...\n",
       "8833     7468364  2019     KIA   SOUL         3986  True\n",
       "8834     7468368  2019     KIA   SOUL         3986  True\n",
       "8835     7468416  2015     KIA   SOUL         3986  True\n",
       "8836     7468434  2019     KIA   SOUL         3986  True\n",
       "8837     7468462  2018     KIA   SOUL         3986  True\n",
       "\n",
       "[8838 rows x 6 columns]>"
      ]
     },
     "execution_count": 49,
     "metadata": {},
     "output_type": "execute_result"
    }
   ],
   "source": [
    "kp_df.count # total 8838 cars"
   ]
  },
  {
   "cell_type": "code",
   "execution_count": 50,
   "id": "3321a554",
   "metadata": {},
   "outputs": [],
   "source": [
    "new_data_df = dr_df.merge(kp_df, left_on='VEHICLE_ID', right_on='VEHICLE_ID') "
   ]
  },
  {
   "cell_type": "code",
   "execution_count": 51,
   "id": "35599664",
   "metadata": {},
   "outputs": [
    {
     "name": "stdout",
     "output_type": "stream",
     "text": [
      "['DODGE' 'CHRYSLER' 'FORD' 'CHEVROLET' 'HYUNDAI' 'NISSAN' 'RAM' 'JEEP'\n",
      " 'HONDA' 'TOYOTA' 'BUICK' 'KIA' 'GMC' 'LEXUS' 'LINCOLN' 'MERCEDES-BENZ']\n",
      "126\n"
     ]
    }
   ],
   "source": [
    "print(new_data_df['MAKE'].unique()) # 16 Make left\n",
    "c_u = new_data_df['MODEL'].unique() # 126 Model left\n",
    "print(c_u.size)"
   ]
  },
  {
   "cell_type": "code",
   "execution_count": 52,
   "id": "01888eed",
   "metadata": {},
   "outputs": [
    {
     "data": {
      "text/html": [
       "<div>\n",
       "<style scoped>\n",
       "    .dataframe tbody tr th:only-of-type {\n",
       "        vertical-align: middle;\n",
       "    }\n",
       "\n",
       "    .dataframe tbody tr th {\n",
       "        vertical-align: top;\n",
       "    }\n",
       "\n",
       "    .dataframe thead th {\n",
       "        text-align: right;\n",
       "    }\n",
       "</style>\n",
       "<table border=\"1\" class=\"dataframe\">\n",
       "  <thead>\n",
       "    <tr style=\"text-align: right;\">\n",
       "      <th></th>\n",
       "      <th>DRIVER_ID</th>\n",
       "      <th>GENDER</th>\n",
       "      <th>CREDIT_SCORE</th>\n",
       "      <th>VEHICLE_ID</th>\n",
       "      <th>AGE</th>\n",
       "      <th>YEAR</th>\n",
       "      <th>MAKE</th>\n",
       "      <th>MODEL</th>\n",
       "      <th>TOTAL_COUNT</th>\n",
       "      <th>KEEP</th>\n",
       "    </tr>\n",
       "  </thead>\n",
       "  <tbody>\n",
       "    <tr>\n",
       "      <th>0</th>\n",
       "      <td>1</td>\n",
       "      <td>2</td>\n",
       "      <td>824</td>\n",
       "      <td>7399455</td>\n",
       "      <td>32</td>\n",
       "      <td>2016</td>\n",
       "      <td>DODGE</td>\n",
       "      <td>JOURNEY SXT</td>\n",
       "      <td>1854</td>\n",
       "      <td>True</td>\n",
       "    </tr>\n",
       "    <tr>\n",
       "      <th>1</th>\n",
       "      <td>2181</td>\n",
       "      <td>2</td>\n",
       "      <td>824</td>\n",
       "      <td>7399455</td>\n",
       "      <td>29</td>\n",
       "      <td>2016</td>\n",
       "      <td>DODGE</td>\n",
       "      <td>JOURNEY SXT</td>\n",
       "      <td>1854</td>\n",
       "      <td>True</td>\n",
       "    </tr>\n",
       "    <tr>\n",
       "      <th>2</th>\n",
       "      <td>38154</td>\n",
       "      <td>2</td>\n",
       "      <td>631</td>\n",
       "      <td>7399455</td>\n",
       "      <td>28</td>\n",
       "      <td>2016</td>\n",
       "      <td>DODGE</td>\n",
       "      <td>JOURNEY SXT</td>\n",
       "      <td>1854</td>\n",
       "      <td>True</td>\n",
       "    </tr>\n",
       "    <tr>\n",
       "      <th>3</th>\n",
       "      <td>38265</td>\n",
       "      <td>2</td>\n",
       "      <td>666</td>\n",
       "      <td>7399455</td>\n",
       "      <td>28</td>\n",
       "      <td>2016</td>\n",
       "      <td>DODGE</td>\n",
       "      <td>JOURNEY SXT</td>\n",
       "      <td>1854</td>\n",
       "      <td>True</td>\n",
       "    </tr>\n",
       "    <tr>\n",
       "      <th>4</th>\n",
       "      <td>47115</td>\n",
       "      <td>2</td>\n",
       "      <td>671</td>\n",
       "      <td>7399455</td>\n",
       "      <td>39</td>\n",
       "      <td>2016</td>\n",
       "      <td>DODGE</td>\n",
       "      <td>JOURNEY SXT</td>\n",
       "      <td>1854</td>\n",
       "      <td>True</td>\n",
       "    </tr>\n",
       "  </tbody>\n",
       "</table>\n",
       "</div>"
      ],
      "text/plain": [
       "   DRIVER_ID  GENDER  CREDIT_SCORE  VEHICLE_ID  AGE  YEAR   MAKE        MODEL  \\\n",
       "0          1       2           824     7399455   32  2016  DODGE  JOURNEY SXT   \n",
       "1       2181       2           824     7399455   29  2016  DODGE  JOURNEY SXT   \n",
       "2      38154       2           631     7399455   28  2016  DODGE  JOURNEY SXT   \n",
       "3      38265       2           666     7399455   28  2016  DODGE  JOURNEY SXT   \n",
       "4      47115       2           671     7399455   39  2016  DODGE  JOURNEY SXT   \n",
       "\n",
       "   TOTAL_COUNT  KEEP  \n",
       "0         1854  True  \n",
       "1         1854  True  \n",
       "2         1854  True  \n",
       "3         1854  True  \n",
       "4         1854  True  "
      ]
     },
     "execution_count": 52,
     "metadata": {},
     "output_type": "execute_result"
    }
   ],
   "source": [
    "# Gernerate final data for model\n",
    "new_data_df.head()"
   ]
  },
  {
   "cell_type": "code",
   "execution_count": 53,
   "id": "4c8e5e8f",
   "metadata": {},
   "outputs": [],
   "source": [
    "new_data_df['GENDER'].unique()\n",
    "new_data_df.loc[new_data_df.GENDER ==2, 'GENDER'] = 0"
   ]
  },
  {
   "cell_type": "code",
   "execution_count": 54,
   "id": "1a05fc7c",
   "metadata": {},
   "outputs": [
    {
     "data": {
      "text/plain": [
       "array([0, 1], dtype=int64)"
      ]
     },
     "execution_count": 54,
     "metadata": {},
     "output_type": "execute_result"
    }
   ],
   "source": [
    "new_data_df['GENDER'].unique()"
   ]
  },
  {
   "cell_type": "code",
   "execution_count": 55,
   "id": "53d0d778",
   "metadata": {},
   "outputs": [
    {
     "data": {
      "text/html": [
       "<div>\n",
       "<style scoped>\n",
       "    .dataframe tbody tr th:only-of-type {\n",
       "        vertical-align: middle;\n",
       "    }\n",
       "\n",
       "    .dataframe tbody tr th {\n",
       "        vertical-align: top;\n",
       "    }\n",
       "\n",
       "    .dataframe thead th {\n",
       "        text-align: right;\n",
       "    }\n",
       "</style>\n",
       "<table border=\"1\" class=\"dataframe\">\n",
       "  <thead>\n",
       "    <tr style=\"text-align: right;\">\n",
       "      <th></th>\n",
       "      <th>DRIVER_ID</th>\n",
       "      <th>GENDER</th>\n",
       "      <th>CREDIT_SCORE</th>\n",
       "      <th>VEHICLE_ID</th>\n",
       "      <th>AGE</th>\n",
       "      <th>YEAR</th>\n",
       "      <th>MAKE</th>\n",
       "      <th>MODEL</th>\n",
       "      <th>TOTAL_COUNT</th>\n",
       "      <th>KEEP</th>\n",
       "    </tr>\n",
       "  </thead>\n",
       "  <tbody>\n",
       "    <tr>\n",
       "      <th>0</th>\n",
       "      <td>1</td>\n",
       "      <td>0</td>\n",
       "      <td>824</td>\n",
       "      <td>7399455</td>\n",
       "      <td>32</td>\n",
       "      <td>2016</td>\n",
       "      <td>DODGE</td>\n",
       "      <td>JOURNEY SXT</td>\n",
       "      <td>1854</td>\n",
       "      <td>True</td>\n",
       "    </tr>\n",
       "    <tr>\n",
       "      <th>1</th>\n",
       "      <td>2181</td>\n",
       "      <td>0</td>\n",
       "      <td>824</td>\n",
       "      <td>7399455</td>\n",
       "      <td>29</td>\n",
       "      <td>2016</td>\n",
       "      <td>DODGE</td>\n",
       "      <td>JOURNEY SXT</td>\n",
       "      <td>1854</td>\n",
       "      <td>True</td>\n",
       "    </tr>\n",
       "    <tr>\n",
       "      <th>2</th>\n",
       "      <td>38154</td>\n",
       "      <td>0</td>\n",
       "      <td>631</td>\n",
       "      <td>7399455</td>\n",
       "      <td>28</td>\n",
       "      <td>2016</td>\n",
       "      <td>DODGE</td>\n",
       "      <td>JOURNEY SXT</td>\n",
       "      <td>1854</td>\n",
       "      <td>True</td>\n",
       "    </tr>\n",
       "    <tr>\n",
       "      <th>3</th>\n",
       "      <td>38265</td>\n",
       "      <td>0</td>\n",
       "      <td>666</td>\n",
       "      <td>7399455</td>\n",
       "      <td>28</td>\n",
       "      <td>2016</td>\n",
       "      <td>DODGE</td>\n",
       "      <td>JOURNEY SXT</td>\n",
       "      <td>1854</td>\n",
       "      <td>True</td>\n",
       "    </tr>\n",
       "    <tr>\n",
       "      <th>4</th>\n",
       "      <td>47115</td>\n",
       "      <td>0</td>\n",
       "      <td>671</td>\n",
       "      <td>7399455</td>\n",
       "      <td>39</td>\n",
       "      <td>2016</td>\n",
       "      <td>DODGE</td>\n",
       "      <td>JOURNEY SXT</td>\n",
       "      <td>1854</td>\n",
       "      <td>True</td>\n",
       "    </tr>\n",
       "  </tbody>\n",
       "</table>\n",
       "</div>"
      ],
      "text/plain": [
       "   DRIVER_ID  GENDER  CREDIT_SCORE  VEHICLE_ID  AGE  YEAR   MAKE        MODEL  \\\n",
       "0          1       0           824     7399455   32  2016  DODGE  JOURNEY SXT   \n",
       "1       2181       0           824     7399455   29  2016  DODGE  JOURNEY SXT   \n",
       "2      38154       0           631     7399455   28  2016  DODGE  JOURNEY SXT   \n",
       "3      38265       0           666     7399455   28  2016  DODGE  JOURNEY SXT   \n",
       "4      47115       0           671     7399455   39  2016  DODGE  JOURNEY SXT   \n",
       "\n",
       "   TOTAL_COUNT  KEEP  \n",
       "0         1854  True  \n",
       "1         1854  True  \n",
       "2         1854  True  \n",
       "3         1854  True  \n",
       "4         1854  True  "
      ]
     },
     "execution_count": 55,
     "metadata": {},
     "output_type": "execute_result"
    }
   ],
   "source": [
    "new_data_df.head()"
   ]
  },
  {
   "cell_type": "code",
   "execution_count": 56,
   "id": "8bc6d911",
   "metadata": {},
   "outputs": [],
   "source": [
    "columns = ['DRIVER_ID', 'VEHICLE_ID','TOTAL_COUNT', 'KEEP']\n",
    "new_data_df.drop(columns, inplace=True, axis=1)"
   ]
  },
  {
   "cell_type": "code",
   "execution_count": 58,
   "id": "12f3ef59",
   "metadata": {},
   "outputs": [
    {
     "data": {
      "text/html": [
       "<div>\n",
       "<style scoped>\n",
       "    .dataframe tbody tr th:only-of-type {\n",
       "        vertical-align: middle;\n",
       "    }\n",
       "\n",
       "    .dataframe tbody tr th {\n",
       "        vertical-align: top;\n",
       "    }\n",
       "\n",
       "    .dataframe thead th {\n",
       "        text-align: right;\n",
       "    }\n",
       "</style>\n",
       "<table border=\"1\" class=\"dataframe\">\n",
       "  <thead>\n",
       "    <tr style=\"text-align: right;\">\n",
       "      <th></th>\n",
       "      <th>GENDER</th>\n",
       "      <th>CREDIT_SCORE</th>\n",
       "      <th>AGE</th>\n",
       "      <th>YEAR</th>\n",
       "      <th>MAKE</th>\n",
       "      <th>MODEL</th>\n",
       "    </tr>\n",
       "  </thead>\n",
       "  <tbody>\n",
       "    <tr>\n",
       "      <th>0</th>\n",
       "      <td>0</td>\n",
       "      <td>824</td>\n",
       "      <td>32</td>\n",
       "      <td>2016</td>\n",
       "      <td>DODGE</td>\n",
       "      <td>JOURNEY SXT</td>\n",
       "    </tr>\n",
       "    <tr>\n",
       "      <th>1</th>\n",
       "      <td>0</td>\n",
       "      <td>824</td>\n",
       "      <td>29</td>\n",
       "      <td>2016</td>\n",
       "      <td>DODGE</td>\n",
       "      <td>JOURNEY SXT</td>\n",
       "    </tr>\n",
       "    <tr>\n",
       "      <th>2</th>\n",
       "      <td>0</td>\n",
       "      <td>631</td>\n",
       "      <td>28</td>\n",
       "      <td>2016</td>\n",
       "      <td>DODGE</td>\n",
       "      <td>JOURNEY SXT</td>\n",
       "    </tr>\n",
       "    <tr>\n",
       "      <th>3</th>\n",
       "      <td>0</td>\n",
       "      <td>666</td>\n",
       "      <td>28</td>\n",
       "      <td>2016</td>\n",
       "      <td>DODGE</td>\n",
       "      <td>JOURNEY SXT</td>\n",
       "    </tr>\n",
       "    <tr>\n",
       "      <th>4</th>\n",
       "      <td>0</td>\n",
       "      <td>671</td>\n",
       "      <td>39</td>\n",
       "      <td>2016</td>\n",
       "      <td>DODGE</td>\n",
       "      <td>JOURNEY SXT</td>\n",
       "    </tr>\n",
       "  </tbody>\n",
       "</table>\n",
       "</div>"
      ],
      "text/plain": [
       "   GENDER  CREDIT_SCORE  AGE  YEAR   MAKE        MODEL\n",
       "0       0           824   32  2016  DODGE  JOURNEY SXT\n",
       "1       0           824   29  2016  DODGE  JOURNEY SXT\n",
       "2       0           631   28  2016  DODGE  JOURNEY SXT\n",
       "3       0           666   28  2016  DODGE  JOURNEY SXT\n",
       "4       0           671   39  2016  DODGE  JOURNEY SXT"
      ]
     },
     "execution_count": 58,
     "metadata": {},
     "output_type": "execute_result"
    }
   ],
   "source": [
    "new_data_df.head()"
   ]
  },
  {
   "cell_type": "code",
   "execution_count": 59,
   "id": "d98c0cf2",
   "metadata": {},
   "outputs": [],
   "source": [
    "new_data_df.to_csv(\"data/driver_vehicle.csv\", index=False)"
   ]
  },
  {
   "cell_type": "code",
   "execution_count": null,
   "id": "798a49b5",
   "metadata": {},
   "outputs": [],
   "source": []
  }
 ],
 "metadata": {
  "kernelspec": {
   "display_name": "mlenv",
   "language": "python",
   "name": "mlenv"
  },
  "language_info": {
   "codemirror_mode": {
    "name": "ipython",
    "version": 3
   },
   "file_extension": ".py",
   "mimetype": "text/x-python",
   "name": "python",
   "nbconvert_exporter": "python",
   "pygments_lexer": "ipython3",
   "version": "3.7.13"
  }
 },
 "nbformat": 4,
 "nbformat_minor": 5
}
