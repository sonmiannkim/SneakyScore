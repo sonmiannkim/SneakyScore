{
 "cells": [
  {
   "cell_type": "markdown",
   "id": "d452becf",
   "metadata": {},
   "source": [
    "# Final dummification\n",
    "    - so far :\n",
    "    - Selected most useful Make and Model by counting groupped data\n",
    "    - Reduced 1048575 rows to 263310 total rows\n",
    "    - Reduced 60 makes to 16 makes, 4395 models to 126 mod\n",
    "    - Dropped temporary used columns "
   ]
  },
  {
   "cell_type": "code",
   "execution_count": 1,
   "id": "91b533ef",
   "metadata": {},
   "outputs": [],
   "source": [
    "# continue data dummification from dummification 2\n",
    "# Import basic necessities\n",
    "import pandas as pd\n",
    "import numpy as np\n",
    "import os\n",
    "\n",
    "import warnings\n",
    "warnings.filterwarnings('ignore')"
   ]
  },
  {
   "cell_type": "code",
   "execution_count": 2,
   "id": "2dc703a7",
   "metadata": {},
   "outputs": [],
   "source": [
    "data_file = \"data/driver_vehicle.csv\"\n",
    "driver_vehicle_df = pd.read_csv(data_file)"
   ]
  },
  {
   "cell_type": "code",
   "execution_count": 3,
   "id": "6235946d",
   "metadata": {},
   "outputs": [
    {
     "data": {
      "text/html": [
       "<div>\n",
       "<style scoped>\n",
       "    .dataframe tbody tr th:only-of-type {\n",
       "        vertical-align: middle;\n",
       "    }\n",
       "\n",
       "    .dataframe tbody tr th {\n",
       "        vertical-align: top;\n",
       "    }\n",
       "\n",
       "    .dataframe thead th {\n",
       "        text-align: right;\n",
       "    }\n",
       "</style>\n",
       "<table border=\"1\" class=\"dataframe\">\n",
       "  <thead>\n",
       "    <tr style=\"text-align: right;\">\n",
       "      <th></th>\n",
       "      <th>GENDER</th>\n",
       "      <th>CREDIT_SCORE</th>\n",
       "      <th>AGE</th>\n",
       "      <th>YEAR</th>\n",
       "      <th>MAKE</th>\n",
       "      <th>MODEL</th>\n",
       "    </tr>\n",
       "  </thead>\n",
       "  <tbody>\n",
       "    <tr>\n",
       "      <th>0</th>\n",
       "      <td>0</td>\n",
       "      <td>824</td>\n",
       "      <td>32</td>\n",
       "      <td>2016</td>\n",
       "      <td>DODGE</td>\n",
       "      <td>JOURNEY SXT</td>\n",
       "    </tr>\n",
       "    <tr>\n",
       "      <th>1</th>\n",
       "      <td>0</td>\n",
       "      <td>824</td>\n",
       "      <td>29</td>\n",
       "      <td>2016</td>\n",
       "      <td>DODGE</td>\n",
       "      <td>JOURNEY SXT</td>\n",
       "    </tr>\n",
       "    <tr>\n",
       "      <th>2</th>\n",
       "      <td>0</td>\n",
       "      <td>631</td>\n",
       "      <td>28</td>\n",
       "      <td>2016</td>\n",
       "      <td>DODGE</td>\n",
       "      <td>JOURNEY SXT</td>\n",
       "    </tr>\n",
       "    <tr>\n",
       "      <th>3</th>\n",
       "      <td>0</td>\n",
       "      <td>666</td>\n",
       "      <td>28</td>\n",
       "      <td>2016</td>\n",
       "      <td>DODGE</td>\n",
       "      <td>JOURNEY SXT</td>\n",
       "    </tr>\n",
       "    <tr>\n",
       "      <th>4</th>\n",
       "      <td>0</td>\n",
       "      <td>671</td>\n",
       "      <td>39</td>\n",
       "      <td>2016</td>\n",
       "      <td>DODGE</td>\n",
       "      <td>JOURNEY SXT</td>\n",
       "    </tr>\n",
       "  </tbody>\n",
       "</table>\n",
       "</div>"
      ],
      "text/plain": [
       "   GENDER  CREDIT_SCORE  AGE  YEAR   MAKE        MODEL\n",
       "0       0           824   32  2016  DODGE  JOURNEY SXT\n",
       "1       0           824   29  2016  DODGE  JOURNEY SXT\n",
       "2       0           631   28  2016  DODGE  JOURNEY SXT\n",
       "3       0           666   28  2016  DODGE  JOURNEY SXT\n",
       "4       0           671   39  2016  DODGE  JOURNEY SXT"
      ]
     },
     "execution_count": 3,
     "metadata": {},
     "output_type": "execute_result"
    }
   ],
   "source": [
    "driver_vehicle_df.head()"
   ]
  },
  {
   "cell_type": "code",
   "execution_count": 4,
   "id": "11e5c240",
   "metadata": {},
   "outputs": [
    {
     "data": {
      "text/plain": [
       "GENDER           int64\n",
       "CREDIT_SCORE     int64\n",
       "AGE              int64\n",
       "YEAR             int64\n",
       "MAKE            object\n",
       "MODEL           object\n",
       "dtype: object"
      ]
     },
     "execution_count": 4,
     "metadata": {},
     "output_type": "execute_result"
    }
   ],
   "source": [
    "driver_vehicle_df.dtypes"
   ]
  },
  {
   "cell_type": "code",
   "execution_count": 5,
   "id": "4eca8f1b",
   "metadata": {},
   "outputs": [],
   "source": [
    "# AS TA recommended let's use model for first words\n",
    "driver_vehicle_df['MODEL'] = driver_vehicle_df.MODEL.str.split().str.get(0)"
   ]
  },
  {
   "cell_type": "code",
   "execution_count": 6,
   "id": "05c147c9",
   "metadata": {},
   "outputs": [
    {
     "data": {
      "text/html": [
       "<div>\n",
       "<style scoped>\n",
       "    .dataframe tbody tr th:only-of-type {\n",
       "        vertical-align: middle;\n",
       "    }\n",
       "\n",
       "    .dataframe tbody tr th {\n",
       "        vertical-align: top;\n",
       "    }\n",
       "\n",
       "    .dataframe thead th {\n",
       "        text-align: right;\n",
       "    }\n",
       "</style>\n",
       "<table border=\"1\" class=\"dataframe\">\n",
       "  <thead>\n",
       "    <tr style=\"text-align: right;\">\n",
       "      <th></th>\n",
       "      <th>GENDER</th>\n",
       "      <th>CREDIT_SCORE</th>\n",
       "      <th>AGE</th>\n",
       "      <th>YEAR</th>\n",
       "      <th>MAKE</th>\n",
       "      <th>MODEL</th>\n",
       "    </tr>\n",
       "  </thead>\n",
       "  <tbody>\n",
       "    <tr>\n",
       "      <th>0</th>\n",
       "      <td>0</td>\n",
       "      <td>824</td>\n",
       "      <td>32</td>\n",
       "      <td>2016</td>\n",
       "      <td>DODGE</td>\n",
       "      <td>JOURNEY</td>\n",
       "    </tr>\n",
       "    <tr>\n",
       "      <th>1</th>\n",
       "      <td>0</td>\n",
       "      <td>824</td>\n",
       "      <td>29</td>\n",
       "      <td>2016</td>\n",
       "      <td>DODGE</td>\n",
       "      <td>JOURNEY</td>\n",
       "    </tr>\n",
       "    <tr>\n",
       "      <th>2</th>\n",
       "      <td>0</td>\n",
       "      <td>631</td>\n",
       "      <td>28</td>\n",
       "      <td>2016</td>\n",
       "      <td>DODGE</td>\n",
       "      <td>JOURNEY</td>\n",
       "    </tr>\n",
       "    <tr>\n",
       "      <th>3</th>\n",
       "      <td>0</td>\n",
       "      <td>666</td>\n",
       "      <td>28</td>\n",
       "      <td>2016</td>\n",
       "      <td>DODGE</td>\n",
       "      <td>JOURNEY</td>\n",
       "    </tr>\n",
       "    <tr>\n",
       "      <th>4</th>\n",
       "      <td>0</td>\n",
       "      <td>671</td>\n",
       "      <td>39</td>\n",
       "      <td>2016</td>\n",
       "      <td>DODGE</td>\n",
       "      <td>JOURNEY</td>\n",
       "    </tr>\n",
       "  </tbody>\n",
       "</table>\n",
       "</div>"
      ],
      "text/plain": [
       "   GENDER  CREDIT_SCORE  AGE  YEAR   MAKE    MODEL\n",
       "0       0           824   32  2016  DODGE  JOURNEY\n",
       "1       0           824   29  2016  DODGE  JOURNEY\n",
       "2       0           631   28  2016  DODGE  JOURNEY\n",
       "3       0           666   28  2016  DODGE  JOURNEY\n",
       "4       0           671   39  2016  DODGE  JOURNEY"
      ]
     },
     "execution_count": 6,
     "metadata": {},
     "output_type": "execute_result"
    }
   ],
   "source": [
    "driver_vehicle_df.head()"
   ]
  },
  {
   "cell_type": "code",
   "execution_count": 7,
   "id": "a5f3773d",
   "metadata": {},
   "outputs": [],
   "source": [
    "driver_vehicle_df =driver_vehicle_df[~driver_vehicle_df.isin([np.nan, np.inf, -np.inf]).any(1)]\n"
   ]
  },
  {
   "cell_type": "code",
   "execution_count": 8,
   "id": "aa3c8b03",
   "metadata": {},
   "outputs": [],
   "source": [
    "# I see outliers or zero - Removing it\n",
    "driver_vehicle_df = driver_vehicle_df[driver_vehicle_df['CREDIT_SCORE'] > 0]"
   ]
  },
  {
   "cell_type": "code",
   "execution_count": 9,
   "id": "87f15656",
   "metadata": {},
   "outputs": [
    {
     "data": {
      "text/plain": [
       "262419"
      ]
     },
     "execution_count": 9,
     "metadata": {},
     "output_type": "execute_result"
    }
   ],
   "source": [
    "driver_vehicle_df = driver_vehicle_df[(driver_vehicle_df[\"AGE\"] < 100) & (driver_vehicle_df[\"AGE\"] > 16)]\n",
    "len(driver_vehicle_df)"
   ]
  },
  {
   "cell_type": "code",
   "execution_count": 10,
   "id": "7eaa5517",
   "metadata": {},
   "outputs": [
    {
     "data": {
      "text/html": [
       "<div>\n",
       "<style scoped>\n",
       "    .dataframe tbody tr th:only-of-type {\n",
       "        vertical-align: middle;\n",
       "    }\n",
       "\n",
       "    .dataframe tbody tr th {\n",
       "        vertical-align: top;\n",
       "    }\n",
       "\n",
       "    .dataframe thead th {\n",
       "        text-align: right;\n",
       "    }\n",
       "</style>\n",
       "<table border=\"1\" class=\"dataframe\">\n",
       "  <thead>\n",
       "    <tr style=\"text-align: right;\">\n",
       "      <th></th>\n",
       "      <th>GENDER</th>\n",
       "      <th>CREDIT_SCORE</th>\n",
       "      <th>AGE</th>\n",
       "      <th>YEAR</th>\n",
       "      <th>MAKE</th>\n",
       "      <th>MODEL</th>\n",
       "    </tr>\n",
       "  </thead>\n",
       "  <tbody>\n",
       "  </tbody>\n",
       "</table>\n",
       "</div>"
      ],
      "text/plain": [
       "Empty DataFrame\n",
       "Columns: [GENDER, CREDIT_SCORE, AGE, YEAR, MAKE, MODEL]\n",
       "Index: []"
      ]
     },
     "execution_count": 10,
     "metadata": {},
     "output_type": "execute_result"
    }
   ],
   "source": [
    "driver_vehicle_df[(driver_vehicle_df[\"AGE\"] > 100)]"
   ]
  },
  {
   "cell_type": "code",
   "execution_count": 11,
   "id": "ff49af57",
   "metadata": {},
   "outputs": [],
   "source": [
    "driver_vehicle_df.to_csv(\"data/web_interact.csv\", index=False)"
   ]
  },
  {
   "cell_type": "code",
   "execution_count": 12,
   "id": "ba6e8b2f",
   "metadata": {},
   "outputs": [
    {
     "data": {
      "text/plain": [
       "array(['JOURNEY', 'TOWN', 'EXPLORER', 'SONIC', 'IMPALA', 'ELANTRA',\n",
       "       'SENTRA', 'ESCAPE', '1500', 'SONATA', 'PATRIOT', 'F-150',\n",
       "       'TRAVERSE', 'CHARGER', 'GRAND', 'CR-V', 'CAMRY', 'CRUZE',\n",
       "       'COROLLA', 'ACCORD', 'MUSTANG', 'MALIBU', 'ROGUE', 'WRANGLER',\n",
       "       'F-250', 'FUSION', 'SILVERADO', 'EQUINOX', 'ALTIMA', 'CHEROKEE',\n",
       "       'ENCORE', 'COMPASS', 'SORENTO', 'OPTIMA', 'SPARK', 'DART',\n",
       "       'RENEGADE', 'EDGE', 'RAV4', 'FIESTA', '200', 'CAMARO', 'FOCUS',\n",
       "       'CIVIC', 'SOUL', 'PATHFINDER', 'AVENGER', 'TRAX', 'FORTE',\n",
       "       'TERRAIN', 'ACCENT', 'MAXIMA', 'CHALLENGER', 'TAURUS', 'VERSA',\n",
       "       'MURANO', 'RX', 'PRIUS', 'MKZ', 'SPTAGE', 'C'], dtype=object)"
      ]
     },
     "execution_count": 12,
     "metadata": {},
     "output_type": "execute_result"
    }
   ],
   "source": [
    "driver_vehicle_df['MODEL'].unique()"
   ]
  },
  {
   "cell_type": "code",
   "execution_count": 13,
   "id": "e2f72d91",
   "metadata": {},
   "outputs": [],
   "source": [
    "dummy_cols = ['YEAR', 'MAKE', 'MODEL']\n",
    "driver_vehicle_df = pd.get_dummies(driver_vehicle_df, columns=dummy_cols)"
   ]
  },
  {
   "cell_type": "code",
   "execution_count": 14,
   "id": "c8a74592",
   "metadata": {},
   "outputs": [
    {
     "data": {
      "text/html": [
       "<div>\n",
       "<style scoped>\n",
       "    .dataframe tbody tr th:only-of-type {\n",
       "        vertical-align: middle;\n",
       "    }\n",
       "\n",
       "    .dataframe tbody tr th {\n",
       "        vertical-align: top;\n",
       "    }\n",
       "\n",
       "    .dataframe thead th {\n",
       "        text-align: right;\n",
       "    }\n",
       "</style>\n",
       "<table border=\"1\" class=\"dataframe\">\n",
       "  <thead>\n",
       "    <tr style=\"text-align: right;\">\n",
       "      <th></th>\n",
       "      <th>GENDER</th>\n",
       "      <th>CREDIT_SCORE</th>\n",
       "      <th>AGE</th>\n",
       "      <th>YEAR_2010</th>\n",
       "      <th>YEAR_2011</th>\n",
       "      <th>YEAR_2012</th>\n",
       "      <th>YEAR_2013</th>\n",
       "      <th>YEAR_2014</th>\n",
       "      <th>YEAR_2015</th>\n",
       "      <th>YEAR_2016</th>\n",
       "      <th>...</th>\n",
       "      <th>MODEL_SOUL</th>\n",
       "      <th>MODEL_SPARK</th>\n",
       "      <th>MODEL_SPTAGE</th>\n",
       "      <th>MODEL_TAURUS</th>\n",
       "      <th>MODEL_TERRAIN</th>\n",
       "      <th>MODEL_TOWN</th>\n",
       "      <th>MODEL_TRAVERSE</th>\n",
       "      <th>MODEL_TRAX</th>\n",
       "      <th>MODEL_VERSA</th>\n",
       "      <th>MODEL_WRANGLER</th>\n",
       "    </tr>\n",
       "  </thead>\n",
       "  <tbody>\n",
       "    <tr>\n",
       "      <th>0</th>\n",
       "      <td>0</td>\n",
       "      <td>824</td>\n",
       "      <td>32</td>\n",
       "      <td>0</td>\n",
       "      <td>0</td>\n",
       "      <td>0</td>\n",
       "      <td>0</td>\n",
       "      <td>0</td>\n",
       "      <td>0</td>\n",
       "      <td>1</td>\n",
       "      <td>...</td>\n",
       "      <td>0</td>\n",
       "      <td>0</td>\n",
       "      <td>0</td>\n",
       "      <td>0</td>\n",
       "      <td>0</td>\n",
       "      <td>0</td>\n",
       "      <td>0</td>\n",
       "      <td>0</td>\n",
       "      <td>0</td>\n",
       "      <td>0</td>\n",
       "    </tr>\n",
       "    <tr>\n",
       "      <th>1</th>\n",
       "      <td>0</td>\n",
       "      <td>824</td>\n",
       "      <td>29</td>\n",
       "      <td>0</td>\n",
       "      <td>0</td>\n",
       "      <td>0</td>\n",
       "      <td>0</td>\n",
       "      <td>0</td>\n",
       "      <td>0</td>\n",
       "      <td>1</td>\n",
       "      <td>...</td>\n",
       "      <td>0</td>\n",
       "      <td>0</td>\n",
       "      <td>0</td>\n",
       "      <td>0</td>\n",
       "      <td>0</td>\n",
       "      <td>0</td>\n",
       "      <td>0</td>\n",
       "      <td>0</td>\n",
       "      <td>0</td>\n",
       "      <td>0</td>\n",
       "    </tr>\n",
       "    <tr>\n",
       "      <th>2</th>\n",
       "      <td>0</td>\n",
       "      <td>631</td>\n",
       "      <td>28</td>\n",
       "      <td>0</td>\n",
       "      <td>0</td>\n",
       "      <td>0</td>\n",
       "      <td>0</td>\n",
       "      <td>0</td>\n",
       "      <td>0</td>\n",
       "      <td>1</td>\n",
       "      <td>...</td>\n",
       "      <td>0</td>\n",
       "      <td>0</td>\n",
       "      <td>0</td>\n",
       "      <td>0</td>\n",
       "      <td>0</td>\n",
       "      <td>0</td>\n",
       "      <td>0</td>\n",
       "      <td>0</td>\n",
       "      <td>0</td>\n",
       "      <td>0</td>\n",
       "    </tr>\n",
       "    <tr>\n",
       "      <th>3</th>\n",
       "      <td>0</td>\n",
       "      <td>666</td>\n",
       "      <td>28</td>\n",
       "      <td>0</td>\n",
       "      <td>0</td>\n",
       "      <td>0</td>\n",
       "      <td>0</td>\n",
       "      <td>0</td>\n",
       "      <td>0</td>\n",
       "      <td>1</td>\n",
       "      <td>...</td>\n",
       "      <td>0</td>\n",
       "      <td>0</td>\n",
       "      <td>0</td>\n",
       "      <td>0</td>\n",
       "      <td>0</td>\n",
       "      <td>0</td>\n",
       "      <td>0</td>\n",
       "      <td>0</td>\n",
       "      <td>0</td>\n",
       "      <td>0</td>\n",
       "    </tr>\n",
       "    <tr>\n",
       "      <th>4</th>\n",
       "      <td>0</td>\n",
       "      <td>671</td>\n",
       "      <td>39</td>\n",
       "      <td>0</td>\n",
       "      <td>0</td>\n",
       "      <td>0</td>\n",
       "      <td>0</td>\n",
       "      <td>0</td>\n",
       "      <td>0</td>\n",
       "      <td>1</td>\n",
       "      <td>...</td>\n",
       "      <td>0</td>\n",
       "      <td>0</td>\n",
       "      <td>0</td>\n",
       "      <td>0</td>\n",
       "      <td>0</td>\n",
       "      <td>0</td>\n",
       "      <td>0</td>\n",
       "      <td>0</td>\n",
       "      <td>0</td>\n",
       "      <td>0</td>\n",
       "    </tr>\n",
       "  </tbody>\n",
       "</table>\n",
       "<p>5 rows × 93 columns</p>\n",
       "</div>"
      ],
      "text/plain": [
       "   GENDER  CREDIT_SCORE  AGE  YEAR_2010  YEAR_2011  YEAR_2012  YEAR_2013  \\\n",
       "0       0           824   32          0          0          0          0   \n",
       "1       0           824   29          0          0          0          0   \n",
       "2       0           631   28          0          0          0          0   \n",
       "3       0           666   28          0          0          0          0   \n",
       "4       0           671   39          0          0          0          0   \n",
       "\n",
       "   YEAR_2014  YEAR_2015  YEAR_2016  ...  MODEL_SOUL  MODEL_SPARK  \\\n",
       "0          0          0          1  ...           0            0   \n",
       "1          0          0          1  ...           0            0   \n",
       "2          0          0          1  ...           0            0   \n",
       "3          0          0          1  ...           0            0   \n",
       "4          0          0          1  ...           0            0   \n",
       "\n",
       "   MODEL_SPTAGE  MODEL_TAURUS  MODEL_TERRAIN  MODEL_TOWN  MODEL_TRAVERSE  \\\n",
       "0             0             0              0           0               0   \n",
       "1             0             0              0           0               0   \n",
       "2             0             0              0           0               0   \n",
       "3             0             0              0           0               0   \n",
       "4             0             0              0           0               0   \n",
       "\n",
       "   MODEL_TRAX  MODEL_VERSA  MODEL_WRANGLER  \n",
       "0           0            0               0  \n",
       "1           0            0               0  \n",
       "2           0            0               0  \n",
       "3           0            0               0  \n",
       "4           0            0               0  \n",
       "\n",
       "[5 rows x 93 columns]"
      ]
     },
     "execution_count": 14,
     "metadata": {},
     "output_type": "execute_result"
    }
   ],
   "source": [
    "driver_vehicle_df.head()"
   ]
  },
  {
   "cell_type": "code",
   "execution_count": 15,
   "id": "b2481904",
   "metadata": {},
   "outputs": [
    {
     "data": {
      "text/plain": [
       "Index(['GENDER', 'CREDIT_SCORE', 'AGE', 'YEAR_2010', 'YEAR_2011', 'YEAR_2012',\n",
       "       'YEAR_2013', 'YEAR_2014', 'YEAR_2015', 'YEAR_2016', 'YEAR_2017',\n",
       "       'YEAR_2018', 'YEAR_2019', 'YEAR_2020', 'YEAR_2021', 'YEAR_2022',\n",
       "       'MAKE_BUICK', 'MAKE_CHEVROLET', 'MAKE_CHRYSLER', 'MAKE_DODGE',\n",
       "       'MAKE_FORD', 'MAKE_GMC', 'MAKE_HONDA', 'MAKE_HYUNDAI', 'MAKE_JEEP',\n",
       "       'MAKE_KIA', 'MAKE_LEXUS', 'MAKE_LINCOLN', 'MAKE_MERCEDES-BENZ',\n",
       "       'MAKE_NISSAN', 'MAKE_RAM', 'MAKE_TOYOTA', 'MODEL_1500', 'MODEL_200',\n",
       "       'MODEL_ACCENT', 'MODEL_ACCORD', 'MODEL_ALTIMA', 'MODEL_AVENGER',\n",
       "       'MODEL_C', 'MODEL_CAMARO', 'MODEL_CAMRY', 'MODEL_CHALLENGER',\n",
       "       'MODEL_CHARGER', 'MODEL_CHEROKEE', 'MODEL_CIVIC', 'MODEL_COMPASS',\n",
       "       'MODEL_COROLLA', 'MODEL_CR-V', 'MODEL_CRUZE', 'MODEL_DART',\n",
       "       'MODEL_EDGE', 'MODEL_ELANTRA', 'MODEL_ENCORE', 'MODEL_EQUINOX',\n",
       "       'MODEL_ESCAPE', 'MODEL_EXPLORER', 'MODEL_F-150', 'MODEL_F-250',\n",
       "       'MODEL_FIESTA', 'MODEL_FOCUS', 'MODEL_FORTE', 'MODEL_FUSION',\n",
       "       'MODEL_GRAND', 'MODEL_IMPALA', 'MODEL_JOURNEY', 'MODEL_MALIBU',\n",
       "       'MODEL_MAXIMA', 'MODEL_MKZ', 'MODEL_MURANO', 'MODEL_MUSTANG',\n",
       "       'MODEL_OPTIMA', 'MODEL_PATHFINDER', 'MODEL_PATRIOT', 'MODEL_PRIUS',\n",
       "       'MODEL_RAV4', 'MODEL_RENEGADE', 'MODEL_ROGUE', 'MODEL_RX',\n",
       "       'MODEL_SENTRA', 'MODEL_SILVERADO', 'MODEL_SONATA', 'MODEL_SONIC',\n",
       "       'MODEL_SORENTO', 'MODEL_SOUL', 'MODEL_SPARK', 'MODEL_SPTAGE',\n",
       "       'MODEL_TAURUS', 'MODEL_TERRAIN', 'MODEL_TOWN', 'MODEL_TRAVERSE',\n",
       "       'MODEL_TRAX', 'MODEL_VERSA', 'MODEL_WRANGLER'],\n",
       "      dtype='object')"
      ]
     },
     "execution_count": 15,
     "metadata": {},
     "output_type": "execute_result"
    }
   ],
   "source": [
    "driver_vehicle_df.columns"
   ]
  },
  {
   "cell_type": "code",
   "execution_count": 16,
   "id": "7c900e96",
   "metadata": {},
   "outputs": [],
   "source": [
    "driver_vehicle_df.to_csv(\"data/dummified_data.csv\", index=False)"
   ]
  },
  {
   "cell_type": "code",
   "execution_count": null,
   "id": "3b5adab5",
   "metadata": {},
   "outputs": [],
   "source": []
  }
 ],
 "metadata": {
  "kernelspec": {
   "display_name": "mlenv",
   "language": "python",
   "name": "mlenv"
  },
  "language_info": {
   "codemirror_mode": {
    "name": "ipython",
    "version": 3
   },
   "file_extension": ".py",
   "mimetype": "text/x-python",
   "name": "python",
   "nbconvert_exporter": "python",
   "pygments_lexer": "ipython3",
   "version": "3.7.13"
  }
 },
 "nbformat": 4,
 "nbformat_minor": 5
}
