{
 "cells": [
  {
   "cell_type": "markdown",
   "id": "a889f52c",
   "metadata": {},
   "source": [
    "### K-mans clustering \n",
    "- Why K-means?\n",
    "    - The most popular clustering algorithm in existence\n",
    "    - It’s relatively simple, intuitive, and easy to conceptualize some Machine learning concepts\n",
    "    - Choosing K can be done either intuitively, the Silhouette method, the Elbow method\n",
    "- How it works?\n",
    "    - Once K (any random number) is determined we select K random points from out dataset and use these points as centroids.\n",
    "    - Compute the cost function of the distance from the centroid\n",
    "    - Choose closest and move the controid to the point\n",
    "    - Repeat computing cost function of the distance / moving the controid until centoid is no longer change\n",
    "    - The ideal number of cluster is obtained when teh additionof new cluster doesn't significantly increases the cost function"
   ]
  },
  {
   "cell_type": "code",
   "execution_count": 12,
   "id": "5c98af7d",
   "metadata": {},
   "outputs": [],
   "source": [
    "# Import basic necessities\n",
    "import pandas as pd\n",
    "import numpy as np\n",
    "import os\n",
    "\n",
    "import warnings\n",
    "warnings.filterwarnings('ignore')"
   ]
  },
  {
   "cell_type": "code",
   "execution_count": 13,
   "id": "2302413e",
   "metadata": {},
   "outputs": [],
   "source": [
    "file_name =\"data/outlier_removed_data.csv\""
   ]
  },
  {
   "cell_type": "code",
   "execution_count": 14,
   "id": "9439a60e",
   "metadata": {},
   "outputs": [
    {
     "name": "stdout",
     "output_type": "stream",
     "text": [
      "<class 'pandas.core.frame.DataFrame'>\n",
      "RangeIndex: 263310 entries, 0 to 263309\n",
      "Data columns (total 94 columns):\n",
      " #   Column              Non-Null Count   Dtype  \n",
      "---  ------              --------------   -----  \n",
      " 0   GENDER              263310 non-null  int64  \n",
      " 1   CREDIT_SCORE        263310 non-null  int64  \n",
      " 2   AGE                 263310 non-null  int64  \n",
      " 3   YEAR_2010           263310 non-null  int64  \n",
      " 4   YEAR_2011           263310 non-null  int64  \n",
      " 5   YEAR_2012           263310 non-null  int64  \n",
      " 6   YEAR_2013           263310 non-null  int64  \n",
      " 7   YEAR_2014           263310 non-null  int64  \n",
      " 8   YEAR_2015           263310 non-null  int64  \n",
      " 9   YEAR_2016           263310 non-null  int64  \n",
      " 10  YEAR_2017           263310 non-null  int64  \n",
      " 11  YEAR_2018           263310 non-null  int64  \n",
      " 12  YEAR_2019           263310 non-null  int64  \n",
      " 13  YEAR_2020           263310 non-null  int64  \n",
      " 14  YEAR_2021           263310 non-null  int64  \n",
      " 15  YEAR_2022           263310 non-null  int64  \n",
      " 16  MAKE_BUICK          263310 non-null  int64  \n",
      " 17  MAKE_CHEVROLET      263310 non-null  int64  \n",
      " 18  MAKE_CHRYSLER       263310 non-null  int64  \n",
      " 19  MAKE_DODGE          263310 non-null  int64  \n",
      " 20  MAKE_FORD           263310 non-null  int64  \n",
      " 21  MAKE_GMC            263310 non-null  int64  \n",
      " 22  MAKE_HONDA          263310 non-null  int64  \n",
      " 23  MAKE_HYUNDAI        263310 non-null  int64  \n",
      " 24  MAKE_JEEP           263310 non-null  int64  \n",
      " 25  MAKE_KIA            263310 non-null  int64  \n",
      " 26  MAKE_LEXUS          263310 non-null  int64  \n",
      " 27  MAKE_LINCOLN        263310 non-null  int64  \n",
      " 28  MAKE_MERCEDES-BENZ  263310 non-null  int64  \n",
      " 29  MAKE_NISSAN         263310 non-null  int64  \n",
      " 30  MAKE_RAM            263310 non-null  int64  \n",
      " 31  MAKE_TOYOTA         263310 non-null  int64  \n",
      " 32  MODEL_1500          263310 non-null  int64  \n",
      " 33  MODEL_200           263310 non-null  int64  \n",
      " 34  MODEL_ACCENT        263310 non-null  int64  \n",
      " 35  MODEL_ACCORD        263310 non-null  int64  \n",
      " 36  MODEL_ALTIMA        263310 non-null  int64  \n",
      " 37  MODEL_AVENGER       263310 non-null  int64  \n",
      " 38  MODEL_C             263310 non-null  int64  \n",
      " 39  MODEL_CAMARO        263310 non-null  int64  \n",
      " 40  MODEL_CAMRY         263310 non-null  int64  \n",
      " 41  MODEL_CHALLENGER    263310 non-null  int64  \n",
      " 42  MODEL_CHARGER       263310 non-null  int64  \n",
      " 43  MODEL_CHEROKEE      263310 non-null  int64  \n",
      " 44  MODEL_CIVIC         263310 non-null  int64  \n",
      " 45  MODEL_COMPASS       263310 non-null  int64  \n",
      " 46  MODEL_COROLLA       263310 non-null  int64  \n",
      " 47  MODEL_CR-V          263310 non-null  int64  \n",
      " 48  MODEL_CRUZE         263310 non-null  int64  \n",
      " 49  MODEL_DART          263310 non-null  int64  \n",
      " 50  MODEL_EDGE          263310 non-null  int64  \n",
      " 51  MODEL_ELANTRA       263310 non-null  int64  \n",
      " 52  MODEL_ENCORE        263310 non-null  int64  \n",
      " 53  MODEL_EQUINOX       263310 non-null  int64  \n",
      " 54  MODEL_ESCAPE        263310 non-null  int64  \n",
      " 55  MODEL_EXPLORER      263310 non-null  int64  \n",
      " 56  MODEL_F-150         263310 non-null  int64  \n",
      " 57  MODEL_F-250         263310 non-null  int64  \n",
      " 58  MODEL_FIESTA        263310 non-null  int64  \n",
      " 59  MODEL_FOCUS         263310 non-null  int64  \n",
      " 60  MODEL_FORTE         263310 non-null  int64  \n",
      " 61  MODEL_FUSION        263310 non-null  int64  \n",
      " 62  MODEL_GRAND         263310 non-null  int64  \n",
      " 63  MODEL_IMPALA        263310 non-null  int64  \n",
      " 64  MODEL_JOURNEY       263310 non-null  int64  \n",
      " 65  MODEL_MALIBU        263310 non-null  int64  \n",
      " 66  MODEL_MAXIMA        263310 non-null  int64  \n",
      " 67  MODEL_MKZ           263310 non-null  int64  \n",
      " 68  MODEL_MURANO        263310 non-null  int64  \n",
      " 69  MODEL_MUSTANG       263310 non-null  int64  \n",
      " 70  MODEL_OPTIMA        263310 non-null  int64  \n",
      " 71  MODEL_PATHFINDER    263310 non-null  int64  \n",
      " 72  MODEL_PATRIOT       263310 non-null  int64  \n",
      " 73  MODEL_PRIUS         263310 non-null  int64  \n",
      " 74  MODEL_RAV4          263310 non-null  int64  \n",
      " 75  MODEL_RENEGADE      263310 non-null  int64  \n",
      " 76  MODEL_ROGUE         263310 non-null  int64  \n",
      " 77  MODEL_RX            263310 non-null  int64  \n",
      " 78  MODEL_SENTRA        263310 non-null  int64  \n",
      " 79  MODEL_SILVERADO     263310 non-null  int64  \n",
      " 80  MODEL_SONATA        263310 non-null  int64  \n",
      " 81  MODEL_SONIC         263310 non-null  int64  \n",
      " 82  MODEL_SORENTO       263310 non-null  int64  \n",
      " 83  MODEL_SOUL          263310 non-null  int64  \n",
      " 84  MODEL_SPARK         263310 non-null  int64  \n",
      " 85  MODEL_SPTAGE        263310 non-null  int64  \n",
      " 86  MODEL_TAURUS        263310 non-null  int64  \n",
      " 87  MODEL_TERRAIN       263310 non-null  int64  \n",
      " 88  MODEL_TOWN          263310 non-null  int64  \n",
      " 89  MODEL_TRAVERSE      263310 non-null  int64  \n",
      " 90  MODEL_TRAX          263310 non-null  int64  \n",
      " 91  MODEL_VERSA         263310 non-null  int64  \n",
      " 92  MODEL_WRANGLER      263310 non-null  int64  \n",
      " 93  SCORE_BUCKET        263144 non-null  float64\n",
      "dtypes: float64(1), int64(93)\n",
      "memory usage: 188.8 MB\n"
     ]
    }
   ],
   "source": [
    "scored_df = pd.read_csv(file_name)\n",
    "scored_df.info()"
   ]
  },
  {
   "cell_type": "code",
   "execution_count": 15,
   "id": "53c9c606",
   "metadata": {},
   "outputs": [
    {
     "data": {
      "text/plain": [
       "4.0    127334\n",
       "3.0     82324\n",
       "0.0     25122\n",
       "2.0     22069\n",
       "1.0      3215\n",
       "5.0      3080\n",
       "Name: SCORE_BUCKET, dtype: int64"
      ]
     },
     "execution_count": 15,
     "metadata": {},
     "output_type": "execute_result"
    }
   ],
   "source": [
    "#see how credit score is spread out\n",
    "v = scored_df.SCORE_BUCKET.value_counts()\n",
    "scored_df = scored_df[scored_df.SCORE_BUCKET.isin(v.index[v.gt(2)])]\n",
    "scored_df.SCORE_BUCKET.value_counts()"
   ]
  },
  {
   "cell_type": "code",
   "execution_count": 16,
   "id": "a05b3b88",
   "metadata": {},
   "outputs": [
    {
     "data": {
      "text/plain": [
       "<AxesSubplot:xlabel='GENDER', ylabel='SCORE_BUCKET'>"
      ]
     },
     "execution_count": 16,
     "metadata": {},
     "output_type": "execute_result"
    },
    {
     "data": {
      "image/png": "[encoded data removed]",
      "text/plain": [
       "<Figure size 432x288 with 1 Axes>"
      ]
     },
     "metadata": {
      "needs_background": "light"
     },
     "output_type": "display_data"
    }
   ],
   "source": [
    "from matplotlib.colors import BoundaryNorm\n",
    "%matplotlib inline\n",
    "import matplotlib.pyplot as plt\n",
    "scored_df.plot(x='GENDER', y='SCORE_BUCKET', kind='scatter')"
   ]
  },
  {
   "cell_type": "code",
   "execution_count": 17,
   "id": "66e5c2a8",
   "metadata": {},
   "outputs": [],
   "source": [
    "# I see outliers or zero - Removing it\n",
    "scored_df = scored_df[scored_df['CREDIT_SCORE'] != 0]"
   ]
  },
  {
   "cell_type": "code",
   "execution_count": 18,
   "id": "475ae294",
   "metadata": {},
   "outputs": [
    {
     "data": {
      "text/plain": [
       "<AxesSubplot:xlabel='GENDER', ylabel='CREDIT_SCORE'>"
      ]
     },
     "execution_count": 18,
     "metadata": {},
     "output_type": "execute_result"
    },
    {
     "data": {
      "image/png": "[encoded data removed]",
      "text/plain": [
       "<Figure size 432x288 with 1 Axes>"
      ]
     },
     "metadata": {
      "needs_background": "light"
     },
     "output_type": "display_data"
    }
   ],
   "source": [
    "from matplotlib.colors import BoundaryNorm\n",
    "%matplotlib inline\n",
    "import matplotlib.pyplot as plt\n",
    "scored_df.plot(x='GENDER', y='CREDIT_SCORE', kind='scatter')"
   ]
  },
  {
   "cell_type": "code",
   "execution_count": 19,
   "id": "33ef2e32",
   "metadata": {},
   "outputs": [
    {
     "data": {
      "text/plain": [
       "<AxesSubplot:xlabel='AGE', ylabel='SCORE_BUCKET'>"
      ]
     },
     "execution_count": 19,
     "metadata": {},
     "output_type": "execute_result"
    },
    {
     "data": {
      "image/png": "[encoded data removed]",
      "text/plain": [
       "<Figure size 432x288 with 1 Axes>"
      ]
     },
     "metadata": {
      "needs_background": "light"
     },
     "output_type": "display_data"
    }
   ],
   "source": [
    "# How about age?\n",
    "from matplotlib.colors import BoundaryNorm\n",
    "%matplotlib inline\n",
    "import matplotlib.pyplot as plt\n",
    "scored_df.plot(x='AGE', y='SCORE_BUCKET', kind='scatter')"
   ]
  },
  {
   "cell_type": "code",
   "execution_count": 20,
   "id": "43d67d2b",
   "metadata": {},
   "outputs": [],
   "source": [
    "# I see outliers or zero - Removing it\n",
    "scored_df = scored_df[(scored_df[\"AGE\"] < 100) & (scored_df[\"AGE\"] > 16)]\n"
   ]
  },
  {
   "cell_type": "code",
   "execution_count": 21,
   "id": "28b3e6b5",
   "metadata": {},
   "outputs": [
    {
     "data": {
      "text/plain": [
       "<AxesSubplot:xlabel='AGE', ylabel='SCORE_BUCKET'>"
      ]
     },
     "execution_count": 21,
     "metadata": {},
     "output_type": "execute_result"
    },
    {
     "data": {
      "image/png": "[encoded data removed]",
      "text/plain": [
       "<Figure size 432x288 with 1 Axes>"
      ]
     },
     "metadata": {
      "needs_background": "light"
     },
     "output_type": "display_data"
    }
   ],
   "source": [
    "# How about age?\n",
    "from matplotlib.colors import BoundaryNorm\n",
    "%matplotlib inline\n",
    "import matplotlib.pyplot as plt\n",
    "scored_df.plot(x='AGE', y='SCORE_BUCKET', kind='scatter')"
   ]
  },
  {
   "cell_type": "code",
   "execution_count": 22,
   "id": "48ab5481",
   "metadata": {},
   "outputs": [],
   "source": [
    "#scored_df.to_csv(\"data/outlier_removed_data\", index = False)"
   ]
  },
  {
   "cell_type": "code",
   "execution_count": null,
   "id": "b7908f0a",
   "metadata": {},
   "outputs": [],
   "source": []
  }
 ],
 "metadata": {
  "kernelspec": {
   "display_name": "mlenv",
   "language": "python",
   "name": "mlenv"
  },
  "language_info": {
   "codemirror_mode": {
    "name": "ipython",
    "version": 3
   },
   "file_extension": ".py",
   "mimetype": "text/x-python",
   "name": "python",
   "nbconvert_exporter": "python",
   "pygments_lexer": "ipython3",
   "version": "3.7.13"
  }
 },
 "nbformat": 4,
 "nbformat_minor": 5
}
